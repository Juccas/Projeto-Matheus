{
 "cells": [
  {
   "cell_type": "code",
   "execution_count": 26,
   "id": "87ceb316-58e0-41a2-9f52-d546bd9af151",
   "metadata": {},
   "outputs": [
    {
     "name": "stdout",
     "output_type": "stream",
     "text": [
      "Requirement already satisfied: pandas in c:\\users\\jlxim\\appdata\\local\\programs\\python\\python312\\lib\\site-packages (2.3.2)\n",
      "Requirement already satisfied: numpy>=1.26.0 in c:\\users\\jlxim\\appdata\\local\\programs\\python\\python312\\lib\\site-packages (from pandas) (1.26.4)\n",
      "Requirement already satisfied: python-dateutil>=2.8.2 in c:\\users\\jlxim\\appdata\\local\\programs\\python\\python312\\lib\\site-packages (from pandas) (2.9.0.post0)\n",
      "Requirement already satisfied: pytz>=2020.1 in c:\\users\\jlxim\\appdata\\local\\programs\\python\\python312\\lib\\site-packages (from pandas) (2025.2)\n",
      "Requirement already satisfied: tzdata>=2022.7 in c:\\users\\jlxim\\appdata\\local\\programs\\python\\python312\\lib\\site-packages (from pandas) (2025.2)\n",
      "Requirement already satisfied: six>=1.5 in c:\\users\\jlxim\\appdata\\local\\programs\\python\\python312\\lib\\site-packages (from python-dateutil>=2.8.2->pandas) (1.16.0)\n",
      "Note: you may need to restart the kernel to use updated packages.\n"
     ]
    },
    {
     "name": "stderr",
     "output_type": "stream",
     "text": [
      "\n",
      "[notice] A new release of pip is available: 25.1.1 -> 25.2\n",
      "[notice] To update, run: python.exe -m pip install --upgrade pip\n"
     ]
    }
   ],
   "source": [
    "pip install pandas"
   ]
  },
  {
   "cell_type": "code",
   "execution_count": 1,
   "id": "26e27b75-d74a-43b5-8e4f-398cd1f13079",
   "metadata": {},
   "outputs": [],
   "source": [
    "import pandas as pd"
   ]
  },
  {
   "cell_type": "code",
   "execution_count": 25,
   "id": "694a026d-8b02-4f6a-9e52-007c71ce323d",
   "metadata": {},
   "outputs": [
    {
     "name": "stdout",
     "output_type": "stream",
     "text": [
      "Pronto salvo em C:\\\\Users\\\\jlxim\\\\OneDrive\\\\Documentos\\\\UFC\\\\trama\\\\matheus\\\\teste\\AAAAAAAAAAAAAAAAAAAAAAAA.csv\n"
     ]
    },
    {
     "data": {
      "text/html": [
       "<div>\n",
       "<style scoped>\n",
       "    .dataframe tbody tr th:only-of-type {\n",
       "        vertical-align: middle;\n",
       "    }\n",
       "\n",
       "    .dataframe tbody tr th {\n",
       "        vertical-align: top;\n",
       "    }\n",
       "\n",
       "    .dataframe thead th {\n",
       "        text-align: right;\n",
       "    }\n",
       "</style>\n",
       "<table border=\"1\" class=\"dataframe\">\n",
       "  <thead>\n",
       "    <tr style=\"text-align: right;\">\n",
       "      <th></th>\n",
       "      <th>Date Time</th>\n",
       "      <th>Data Index</th>\n",
       "      <th>Accel X</th>\n",
       "      <th>Accel Y</th>\n",
       "      <th>Accel Z</th>\n",
       "      <th>Accel Sqrt</th>\n",
       "      <th>Button</th>\n",
       "    </tr>\n",
       "  </thead>\n",
       "  <tbody>\n",
       "    <tr>\n",
       "      <th>0</th>\n",
       "      <td>13:20:40</td>\n",
       "      <td>0</td>\n",
       "      <td>0.000000</td>\n",
       "      <td>-0.025391</td>\n",
       "      <td>-1.045898</td>\n",
       "      <td>1.046207</td>\n",
       "      <td>0</td>\n",
       "    </tr>\n",
       "    <tr>\n",
       "      <th>1</th>\n",
       "      <td>13:20:40</td>\n",
       "      <td>1</td>\n",
       "      <td>0.006348</td>\n",
       "      <td>-0.026367</td>\n",
       "      <td>-1.043945</td>\n",
       "      <td>1.044298</td>\n",
       "      <td>0</td>\n",
       "    </tr>\n",
       "    <tr>\n",
       "      <th>2</th>\n",
       "      <td>13:20:40</td>\n",
       "      <td>2</td>\n",
       "      <td>0.000000</td>\n",
       "      <td>-0.027344</td>\n",
       "      <td>-1.050293</td>\n",
       "      <td>1.050649</td>\n",
       "      <td>0</td>\n",
       "    </tr>\n",
       "    <tr>\n",
       "      <th>3</th>\n",
       "      <td>13:20:40</td>\n",
       "      <td>3</td>\n",
       "      <td>0.000977</td>\n",
       "      <td>-0.027832</td>\n",
       "      <td>-1.041016</td>\n",
       "      <td>1.041388</td>\n",
       "      <td>0</td>\n",
       "    </tr>\n",
       "    <tr>\n",
       "      <th>4</th>\n",
       "      <td>13:20:40</td>\n",
       "      <td>4</td>\n",
       "      <td>-0.001953</td>\n",
       "      <td>-0.026367</td>\n",
       "      <td>-1.047363</td>\n",
       "      <td>1.047697</td>\n",
       "      <td>0</td>\n",
       "    </tr>\n",
       "  </tbody>\n",
       "</table>\n",
       "</div>"
      ],
      "text/plain": [
       "  Date Time   Data Index   Accel X   Accel Y   Accel Z   Accel Sqrt  Button\n",
       "0  13:20:40            0  0.000000 -0.025391 -1.045898     1.046207       0\n",
       "1  13:20:40            1  0.006348 -0.026367 -1.043945     1.044298       0\n",
       "2  13:20:40            2  0.000000 -0.027344 -1.050293     1.050649       0\n",
       "3  13:20:40            3  0.000977 -0.027832 -1.041016     1.041388       0\n",
       "4  13:20:40            4 -0.001953 -0.026367 -1.047363     1.047697       0"
      ]
     },
     "execution_count": 25,
     "metadata": {},
     "output_type": "execute_result"
    }
   ],
   "source": [
    "# copia e cola o endereço do arquivo\n",
    "file = pd.read_csv(r\"C:\\Users\\jlxim\\OneDrive\\Documentos\\UFC\\trama\\matheus\\1756300839.csv\", sep =\";\") #antes das aspas duplas escreve r, assim: r\"endereço\"\n",
    "file['Date Time'] = pd.to_datetime(file['Epoch Time'], unit='s').dt.strftime('%H:%M:%S') # converte epoch time para data normal\n",
    "# remove a colua epoch time e coloca no lugar a data e a hora\n",
    "file['Date Time'], file['Epoch Time'] = file['Epoch Time'].copy(), file['Date Time'].copy() \n",
    "file.drop(columns =[\"Date Time\"],inplace = True)\n",
    "file.rename(columns = {'Epoch Time': 'Date Time'},inplace=True)\n",
    "#salvando o arquivo\n",
    "paste =r\"C:\\Users\\jlxim\\OneDrive\\Documentos\\UFC\\trama\\matheus\\teste\" # copia e cola o endereço da pasta, entre as aspas duplas, onde vai ser salvo o novo arquivo\n",
    "#OBS: quando copia e cola a pasta no windows é só uma \\, deve se duplicar essas barras, por isso fica \\\\ segue_se\n",
    "name =\"AAAAAAAAAAAAAAAAAAAAAAAA.csv\" # nome do novo arquivo\n",
    "path = paste.replace(\"\\\\\", \"\\\\\\\\\") +\"\\\\\"+name\n",
    "file.to_csv(path,index = False)\n",
    "print(f\"Pronto salvo em {path}\")"
   ]
  },
  {
   "cell_type": "code",
   "execution_count": null,
   "id": "fc4bfad8-e124-4437-bbe1-e85b6e56d48d",
   "metadata": {},
   "outputs": [],
   "source": []
  }
 ],
 "metadata": {
  "kernelspec": {
   "display_name": "Python 3 (ipykernel)",
   "language": "python",
   "name": "python3"
  },
  "language_info": {
   "codemirror_mode": {
    "name": "ipython",
    "version": 3
   },
   "file_extension": ".py",
   "mimetype": "text/x-python",
   "name": "python",
   "nbconvert_exporter": "python",
   "pygments_lexer": "ipython3",
   "version": "3.12.3"
  }
 },
 "nbformat": 4,
 "nbformat_minor": 5
}
